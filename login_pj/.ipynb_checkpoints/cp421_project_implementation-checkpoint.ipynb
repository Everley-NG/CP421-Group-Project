{
 "cells": [
  {
   "cell_type": "code",
   "execution_count": null,
   "id": "098df237",
   "metadata": {},
   "outputs": [],
   "source": [
    "# CP421 Group Project (Group 3)\n",
    "# -----------------------------------------------------------------\n",
    "# File: cp421_group_project.ipynb\n",
    "# Author: Yvonne Itangishaka, Mariam Lom, Hoi Hin Ng, Melissa Pinto\n",
    "# Due Date: Dec 6th, 2023\n",
    "# -----------------------------------------------------------------"
   ]
  },
  {
   "cell_type": "code",
   "execution_count": null,
   "id": "342b9a29",
   "metadata": {},
   "outputs": [],
   "source": [
    "# Import Python libraries\n",
    "import pandas as pd\n",
    "from sklearn.feature_extraction.text import TfidfVectorizer\n",
    "from nltk.tokenize import word_tokenize\n",
    "from nltk.corpus import stopwords\n",
    "from nltk.stem import WordNetLemmatizer\n",
    "import string"
   ]
  },
  {
   "cell_type": "code",
   "execution_count": null,
   "id": "23ac60c7",
   "metadata": {},
   "outputs": [],
   "source": [
    "# Load the Book Recommendation dataset from Kaggle\n",
    "books_data = pd.read_csv('Books.csv')\n",
    "ratings_data = pd.read_csv('Ratings.csv')\n",
    "users_data = pd.read_csv('Users.csv')\n",
    "\n",
    "print(\"Books Data:\")\n",
    "display(books_data.head())\n",
    "print(\"\\nRatings Data:\")\n",
    "display(ratings_data.head())\n",
    "print(\"\\nUsers Data:\")\n",
    "display(users_data.head())\n",
    "\n",
    "# Concatenate relevant columns into 'Books-Data'\n",
    "books_data[\"Books-Data\"] = (\n",
    "    books_data[\"ISBN\"].astype(str) +\n",
    "    books_data[\"Book-Title\"] +\n",
    "    books_data[\"Book-Author\"] +\n",
    "    books_data[\"Year-Of-Publication\"].astype(str) +\n",
    "    books_data[\"Publisher\"] +\n",
    "    books_data[\"Image-URL-S\"] +\n",
    "    books_data[\"Image-URL-M\"] +\n",
    "    books_data[\"Image-URL-L\"]\n",
    ")"
   ]
  },
  {
   "cell_type": "code",
   "execution_count": null,
   "id": "075fe36d",
   "metadata": {},
   "outputs": [],
   "source": [
    "# Text preprocessing\n",
    "\n",
    "# Handle NaN values by filling them with an empty string\n",
    "books_data[\"Books-Data\"].fillna('', inplace=True)\n",
    "\n",
    "# Tokenization\n",
    "books_data['Book_Title_Tokens'] = books_data['Books-Data'].apply(lambda x: word_tokenize(str(x)))\n",
    "\n",
    "# Stop words removal\n",
    "stop_words = set(stopwords.words('english'))\n",
    "books_data['Book_Title_Tokens'] = books_data['Book_Title_Tokens'].apply(lambda tokens: [word.lower() for word in tokens if word.lower() not in stop_words])\n",
    "\n",
    "# Lemmatization\n",
    "lemmatizer = WordNetLemmatizer()\n",
    "books_data['Book_Title_Tokens'] = books_data['Book_Title_Tokens'].apply(lambda tokens: [lemmatizer.lemmatize(word) for word in tokens])\n",
    "\n",
    "# Join tokens back into strings\n",
    "books_data['Processed_Book_Title'] = books_data['Book_Title_Tokens'].apply(lambda tokens: ' '.join(tokens))\n",
    "\n",
    "# TF-IDF Vectorization\n",
    "tfidf_vectorizer = TfidfVectorizer()\n",
    "tfidf_matrix = tfidf_vectorizer.fit_transform(books_data['Processed_Book_Title'])\n",
    "\n",
    "# Now you have the TF-IDF matrix which represents the text features of 'Book Title'\n",
    "# You can use this matrix for similarity calculations or further analysis\n",
    "print(books_data['Book_Title_Tokens'])\n",
    "print(books_data['Processed_Book_Title'])\n",
    "print(tfidf_vectorizer)\n",
    "print(tfidf_matrix)"
   ]
  },
  {
   "cell_type": "code",
   "execution_count": null,
   "id": "ce6ebae2",
   "metadata": {},
   "outputs": [],
   "source": [
    "# Content-based filtering"
   ]
  },
  {
   "cell_type": "code",
   "execution_count": null,
   "id": "6b153d3e",
   "metadata": {},
   "outputs": [],
   "source": [
    "# Collaborative based filtering"
   ]
  },
  {
   "cell_type": "code",
   "execution_count": null,
   "id": "f4ef0a2c",
   "metadata": {},
   "outputs": [],
   "source": [
    "# Evaluation performance"
   ]
  }
 ],
 "metadata": {
  "kernelspec": {
   "display_name": "Python 3 (ipykernel)",
   "language": "python",
   "name": "python3"
  },
  "language_info": {
   "codemirror_mode": {
    "name": "ipython",
    "version": 3
   },
   "file_extension": ".py",
   "mimetype": "text/x-python",
   "name": "python",
   "nbconvert_exporter": "python",
   "pygments_lexer": "ipython3",
   "version": "3.11.5"
  }
 },
 "nbformat": 4,
 "nbformat_minor": 5
}
